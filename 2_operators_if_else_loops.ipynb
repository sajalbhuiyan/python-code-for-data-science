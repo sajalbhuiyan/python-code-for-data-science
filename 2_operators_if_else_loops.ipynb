{
  "cells": [
    {
      "cell_type": "markdown",
      "metadata": {
        "id": "y1HMD4oI7FL7"
      },
      "source": [
        "# Operators in Python\n",
        "\n",
        "- Arithmetic Operators\n",
        "- Relational Operators\n",
        "- Logical Operators\n",
        "- Bitwise Operators\n",
        "- Assignment Operators\n",
        "- Membership Operators"
      ]
    },
    {
      "cell_type": "code",
      "execution_count": 1,
      "metadata": {
        "colab": {
          "base_uri": "https://localhost:8080/"
        },
        "id": "a7cegk-f7U4-",
        "outputId": "77490d0d-316e-4611-9cd7-8c99e64fca2a"
      },
      "outputs": [
        {
          "name": "stdout",
          "output_type": "stream",
          "text": [
            "11\n",
            "-1\n",
            "30\n",
            "2.5\n",
            "2\n",
            "1\n",
            "25\n"
          ]
        }
      ],
      "source": [
        "# Arithmetric Operators\n",
        "print(5+6)\n",
        "\n",
        "print(5-6)\n",
        "\n",
        "print(5*6)\n",
        "\n",
        "print(5/2)\n",
        "\n",
        "print(5//2)\n",
        "\n",
        "print(5%2)\n",
        "\n",
        "print(5**2)"
      ]
    },
    {
      "cell_type": "code",
      "execution_count": 2,
      "metadata": {
        "colab": {
          "base_uri": "https://localhost:8080/"
        },
        "id": "TMIQKhFd7Y5A",
        "outputId": "573867e9-962a-45a6-a313-dcaa8b9a6406"
      },
      "outputs": [
        {
          "name": "stdout",
          "output_type": "stream",
          "text": [
            "False\n",
            "True\n",
            "True\n",
            "True\n",
            "True\n",
            "False\n"
          ]
        }
      ],
      "source": [
        "# Relational Operators\n",
        "print(4>5)\n",
        "\n",
        "print(4<5)\n",
        "\n",
        "print(4>=4)\n",
        "\n",
        "print(4<=4)\n",
        "\n",
        "print(4==4)\n",
        "\n",
        "print(4!=4)"
      ]
    },
    {
      "cell_type": "code",
      "execution_count": 3,
      "metadata": {
        "colab": {
          "base_uri": "https://localhost:8080/"
        },
        "id": "vyxdjDbc7avq",
        "outputId": "4c6a1710-fea3-466c-f6b2-f98de20a2a0b"
      },
      "outputs": [
        {
          "name": "stdout",
          "output_type": "stream",
          "text": [
            "0\n",
            "1\n",
            "False\n"
          ]
        }
      ],
      "source": [
        "# Logical Operators\n",
        "print(1 and 0)\n",
        "\n",
        "print(1 or 0)\n",
        "\n",
        "print(not 1)"
      ]
    },
    {
      "cell_type": "code",
      "execution_count": 1,
      "metadata": {
        "colab": {
          "base_uri": "https://localhost:8080/"
        },
        "id": "H4KzpSke7d9l",
        "outputId": "5832a648-6430-425c-8fa7-8dbad5d8d4b3"
      },
      "outputs": [
        {
          "name": "stdout",
          "output_type": "stream",
          "text": [
            "2\n",
            "3\n",
            "1\n",
            "-4\n",
            "1\n",
            "10\n"
          ]
        }
      ],
      "source": [
        "# Bitwise Operators\n",
        "\n",
        "# bitwise and\n",
        "print(2 & 3)\n",
        "\n",
        "# bitwise or\n",
        "print(2 | 3)\n",
        "\n",
        "# bitwise xor\n",
        "print(2 ^ 3)\n",
        "\n",
        "print(~3)\n",
        "\n",
        "print(4 >> 2)\n",
        "\n",
        "print(5 << 1)"
      ]
    },
    {
      "cell_type": "code",
      "execution_count": 2,
      "metadata": {
        "colab": {
          "base_uri": "https://localhost:8080/"
        },
        "id": "8EEm8eHO7gD_",
        "outputId": "a421f118-2ee3-42da-91ff-3cd06de41755"
      },
      "outputs": [
        {
          "name": "stdout",
          "output_type": "stream",
          "text": [
            "0\n"
          ]
        }
      ],
      "source": [
        "# Assignment Operators\n",
        "\n",
        "# =\n",
        "# a = 2\n",
        "\n",
        "a = 2\n",
        "\n",
        "# a = a % 2\n",
        "a %= 2\n",
        "\n",
        "# a++ ++a\n",
        "\n",
        "print(a)"
      ]
    },
    {
      "cell_type": "code",
      "execution_count": 4,
      "metadata": {
        "colab": {
          "base_uri": "https://localhost:8080/"
        },
        "id": "LzrIz7I87h-W",
        "outputId": "d362a8a0-bbae-406f-bd33-fc6fe789e889"
      },
      "outputs": [
        {
          "name": "stdout",
          "output_type": "stream",
          "text": [
            "False\n",
            "False\n"
          ]
        }
      ],
      "source": [
        "# Membership Operators\n",
        "\n",
        "# in/not in\n",
        "\n",
        "print('D' not in 'Dhaka')\n",
        "\n",
        "print(1 in [2,3,4,5,6])"
      ]
    },
    {
      "cell_type": "code",
      "execution_count": 7,
      "metadata": {
        "colab": {
          "base_uri": "https://localhost:8080/"
        },
        "id": "C-LoVrYGDEuB",
        "outputId": "5842d198-7b4f-4785-cec7-5735603ab873"
      },
      "outputs": [
        {
          "name": "stdout",
          "output_type": "stream",
          "text": [
            "1\n"
          ]
        }
      ],
      "source": [
        "# Program - Find the sum of a 3 digit number entered by the user\n",
        "\n",
        "number = int(input('Enter a 3 digit number'))\n",
        "\n",
        "# 345%10 -> 5\n",
        "a = number%10\n",
        "\n",
        "number = number//10\n",
        "\n",
        "# 34%10 -> 4\n",
        "b = number % 10\n",
        "\n",
        "number = number//10\n",
        "# 3 % 10 -> 3\n",
        "c = number % 10\n",
        "\n",
        "print(a + b + c)"
      ]
    },
    {
      "cell_type": "markdown",
      "metadata": {
        "id": "Iq7CzVFs7mWT"
      },
      "source": [
        "# If-else in Python"
      ]
    },
    {
      "cell_type": "code",
      "execution_count": null,
      "metadata": {
        "colab": {
          "base_uri": "https://localhost:8080/"
        },
        "id": "dGz-83pN7oxe",
        "outputId": "01cd71cf-6af3-464a-dcc1-8c21be5e092c"
      },
      "outputs": [
        {
          "name": "stdout",
          "output_type": "stream",
          "text": [
            "Not correct\n"
          ]
        }
      ],
      "source": [
        "# login program and indentation\n",
        "# email -> nitish.campusx@gmail.com\n",
        "# password -> 1234\n",
        "\n",
        "email = input('enter email')\n",
        "password = input('enter password')\n",
        "\n",
        "if email == 'sajalahmedakram@gmail.com' and password == '1234':\n",
        "  print('Welcome')\n",
        "elif email == 'sajalahmedakram@gmail.com' and password != '1234':\n",
        "  # tell the user\n",
        "  print('Incorrect password')\n",
        "  password = input('enter password again')\n",
        "  if password == '1234':\n",
        "    print('Welcome,finally!')\n",
        "  else:\n",
        "    print('Incorrect password again, try later')\n",
        "else:\n",
        "  print('Not correct')"
      ]
    },
    {
      "cell_type": "code",
      "execution_count": 9,
      "metadata": {
        "id": "qo_1tY2ABlAX"
      },
      "outputs": [],
      "source": [
        "# if-else examples\n",
        "# 1. Find the min of 3 given numbers\n",
        "# 2. Menu Driven Program"
      ]
    },
    {
      "cell_type": "code",
      "execution_count": 10,
      "metadata": {
        "colab": {
          "base_uri": "https://localhost:8080/"
        },
        "id": "gQpTJbMH3W6_",
        "outputId": "3a2ff0d1-a8d2-4b41-eb50-49612c57b612"
      },
      "outputs": [
        {
          "name": "stdout",
          "output_type": "stream",
          "text": [
            "smallest is 8\n"
          ]
        }
      ],
      "source": [
        "# min of 3 number\n",
        "\n",
        "a = int(input('first num'))\n",
        "b = int(input('second num'))\n",
        "c = int(input('third num'))\n",
        "\n",
        "if a<b and a<c:\n",
        "  print('smallest is',a)\n",
        "elif b<c:\n",
        "  print('smallest is',b)\n",
        "else:\n",
        "  print('smallest is',c)"
      ]
    },
    {
      "cell_type": "code",
      "execution_count": 11,
      "metadata": {
        "colab": {
          "base_uri": "https://localhost:8080/"
        },
        "id": "hgNqlC5C4jqF",
        "outputId": "d9a4e001-985d-46fe-fdf4-2767dde7d340"
      },
      "outputs": [
        {
          "name": "stdout",
          "output_type": "stream",
          "text": [
            "pin change\n"
          ]
        }
      ],
      "source": [
        "# menu driven calculator\n",
        "menu = input(\"\"\"\n",
        "Hi! how can I help you.\n",
        "1. Enter 1 for pin change\n",
        "2. Enter 2 for balance check\n",
        "3. Enter 3 for withdrawl\n",
        "4. Enter 4 for exit\n",
        "\"\"\")\n",
        "\n",
        "if menu == '1':\n",
        "  print('pin change')\n",
        "elif menu == '2':\n",
        "  print('balance')\n",
        "else:\n",
        "  print('exit')"
      ]
    },
    {
      "cell_type": "markdown",
      "metadata": {
        "id": "532_6mva8A6C"
      },
      "source": [
        "# Modules in Python\n",
        "\n",
        "- math\n",
        "- keywords\n",
        "- random\n",
        "- datetime"
      ]
    },
    {
      "cell_type": "code",
      "execution_count": 12,
      "metadata": {
        "colab": {
          "base_uri": "https://localhost:8080/"
        },
        "id": "x5VXt7wv8G4o",
        "outputId": "0f191ca5-e4c3-4c79-ecf2-dcbd23cbd770"
      },
      "outputs": [
        {
          "data": {
            "text/plain": [
              "14.0"
            ]
          },
          "execution_count": 12,
          "metadata": {},
          "output_type": "execute_result"
        }
      ],
      "source": [
        "# math\n",
        "import math\n",
        "\n",
        "math.sqrt(196)"
      ]
    },
    {
      "cell_type": "code",
      "execution_count": 13,
      "metadata": {
        "colab": {
          "base_uri": "https://localhost:8080/"
        },
        "id": "FLgAX9pz8HBT",
        "outputId": "63de6b39-b796-475b-9b7d-fa22f2019c90"
      },
      "outputs": [
        {
          "name": "stdout",
          "output_type": "stream",
          "text": [
            "['False', 'None', 'True', 'and', 'as', 'assert', 'async', 'await', 'break', 'class', 'continue', 'def', 'del', 'elif', 'else', 'except', 'finally', 'for', 'from', 'global', 'if', 'import', 'in', 'is', 'lambda', 'nonlocal', 'not', 'or', 'pass', 'raise', 'return', 'try', 'while', 'with', 'yield']\n"
          ]
        }
      ],
      "source": [
        "# keyword\n",
        "import keyword\n",
        "print(keyword.kwlist)"
      ]
    },
    {
      "cell_type": "code",
      "execution_count": 14,
      "metadata": {
        "colab": {
          "base_uri": "https://localhost:8080/"
        },
        "id": "R0dWpe-w8HSZ",
        "outputId": "3aa87b74-0699-47d7-8316-73de80dbfeb1"
      },
      "outputs": [
        {
          "name": "stdout",
          "output_type": "stream",
          "text": [
            "88\n"
          ]
        }
      ],
      "source": [
        "# random\n",
        "import random\n",
        "print(random.randint(1,100))"
      ]
    },
    {
      "cell_type": "code",
      "execution_count": 7,
      "metadata": {
        "colab": {
          "base_uri": "https://localhost:8080/"
        },
        "id": "XNHWXsM0iFn3",
        "outputId": "7d219248-ba98-4b2e-a382-57630acea35c"
      },
      "outputs": [
        {
          "name": "stdout",
          "output_type": "stream",
          "text": [
            "2025-09-05 19:58:24.192845\n"
          ]
        }
      ],
      "source": [
        "# datetime\n",
        "import datetime\n",
        "print(datetime.datetime.now())"
      ]
    },
    {
      "cell_type": "code",
      "execution_count": 8,
      "metadata": {
        "colab": {
          "base_uri": "https://localhost:8080/"
        },
        "id": "ePMxrlzX8CsQ",
        "outputId": "719443f9-8cb6-48fc-9a02-dee02625fc8f"
      },
      "outputs": [
        {
          "name": "stdout",
          "output_type": "stream",
          "text": [
            "\n",
            "Please wait a moment while I gather a list of all available modules...\n",
            "\n"
          ]
        },
        {
          "name": "stderr",
          "output_type": "stream",
          "text": [
            "c:\\Users\\sajal\\miniconda3\\envs\\myenv\\lib\\site-packages\\_distutils_hack\\__init__.py:30: UserWarning: Setuptools is replacing distutils. Support for replacing an already imported distutils is deprecated. In the future, this condition will fail. Register concerns at https://github.com/pypa/setuptools/issues/new?template=distutils-deprecation.yml\n",
            "  warnings.warn(\n"
          ]
        },
        {
          "name": "stdout",
          "output_type": "stream",
          "text": [
            "IPython             bdb                 mmap                sunau\n",
            "PIL                 binascii            mmapfile            symtable\n",
            "__future__          binhex              mmsystem            sys\n",
            "_abc                bisect              modulefinder        sysconfig\n",
            "_aix_support        builtins            more_itertools      tabnanny\n",
            "_ast                bz2                 msilib              tarfile\n",
            "_asyncio            cProfile            msvcrt              telnetlib\n",
            "_bisect             calendar            multiprocessing     tempfile\n",
            "_blake2             cgi                 mysql               test\n",
            "_bootsubprocess     cgitb               narwhals            textwrap\n",
            "_bz2                chunk               nbformat            this\n",
            "_codecs             cmath               nest_asyncio        threading\n",
            "_codecs_cn          cmd                 netbios             time\n",
            "_codecs_hk          code                netrc               timeit\n",
            "_codecs_iso2022     codecs              nntplib             timer\n",
            "_codecs_jp          codeop              nt                  tkinter\n",
            "_codecs_kr          collections         ntpath              token\n",
            "_codecs_tw          colorama            ntsecuritycon       tokenize\n",
            "_collections        colorsys            nturl2path          tomli\n",
            "_collections_abc    comm                numbers             tornado\n",
            "_compat_pickle      commctrl            numpy               trace\n",
            "_compression        compileall          odbc                traceback\n",
            "_contextvars        concurrent          opcode              tracemalloc\n",
            "_csv                configparser        operator            traitlets\n",
            "_ctypes             contextlib          optparse            tty\n",
            "_ctypes_test        contextvars         os                  turtle\n",
            "_datetime           contourpy           packaging           turtledemo\n",
            "_decimal            copy                pandas              typeguard\n",
            "_distutils_hack     copyreg             parso               types\n",
            "_elementtree        crypt               pathlib             typing\n",
            "_functools          csv                 pdb                 typing_extensions\n",
            "_hashlib            ctypes              perfmon             tzdata\n",
            "_heapq              curses              pickle              unicodedata\n",
            "_imp                cycler              pickletools         unittest\n",
            "_io                 dataclasses         pip                 urllib\n",
            "_json               datetime            pipes               uu\n",
            "_locale             dateutil            pkg_resources       uuid\n",
            "_lsprof             dbm                 pkgutil             venv\n",
            "_lzma               dde                 platform            warnings\n",
            "_markupbase         debugpy             platformdirs        wave\n",
            "_md5                decimal             plistlib            wcwidth\n",
            "_msi                decorator           plotly              weakref\n",
            "_multibytecodec     difflib             poplib              webbrowser\n",
            "_multiprocessing    dis                 posixpath           wheel\n",
            "_mysql_connector    distutils           pprint              win2kras\n",
            "_opcode             doctest             profile             win32api\n",
            "_operator           email               prompt_toolkit      win32clipboard\n",
            "_osx_support        encodings           pstats              win32com\n",
            "_overlapped         ensurepip           psutil              win32con\n",
            "_pickle             enum                pty                 win32console\n",
            "_plotly_utils       errno               pure_eval           win32cred\n",
            "_py_abc             exceptiongroup      py_compile          win32crypt\n",
            "_pydecimal          executing           pyclbr              win32cryptcon\n",
            "_pyio               fastjsonschema      pydoc               win32event\n",
            "_queue              faulthandler        pydoc_data          win32evtlog\n",
            "_random             filecmp             pyexpat             win32evtlogutil\n",
            "_sha1               fileinput           pygments            win32file\n",
            "_sha256             fnmatch             pylab               win32gui\n",
            "_sha3               fontTools           pyparsing           win32gui_struct\n",
            "_sha512             fractions           pythoncom           win32help\n",
            "_signal             ftplib              pytz                win32inet\n",
            "_sitebuiltins       functools           pywin               win32inetcon\n",
            "_socket             gc                  pywin32_bootstrap   win32job\n",
            "_sqlite3            genericpath         pywin32_testutil    win32lz\n",
            "_sre                getopt              pywintypes          win32net\n",
            "_ssl                getpass             queue               win32netcon\n",
            "_stat               gettext             quopri              win32pdh\n",
            "_statistics         glob                random              win32pdhquery\n",
            "_string             graphlib            rasutil             win32pdhutil\n",
            "_strptime           greenlet            re                  win32pipe\n",
            "_struct             gzip                referencing         win32print\n",
            "_symtable           hashlib             regcheck            win32process\n",
            "_testbuffer         heapq               regutil             win32profile\n",
            "_testcapi           hmac                reprlib             win32ras\n",
            "_testconsole        html                rlcompleter         win32rcparser\n",
            "_testimportmultiple http                rpds                win32security\n",
            "_testinternalcapi   idlelib             runpy               win32service\n",
            "_testmultiphase     imaplib             sched               win32serviceutil\n",
            "_thread             imghdr              seaborn             win32timezone\n",
            "_threading_local    imp                 secrets             win32trace\n",
            "_tkinter            importlib           select              win32traceutil\n",
            "_tracemalloc        importlib_metadata  selectors           win32transaction\n",
            "_uuid               inflect             servicemanager      win32ts\n",
            "_warnings           inspect             setuptools          win32ui\n",
            "_weakref            io                  shelve              win32uiole\n",
            "_weakrefset         ipaddress           shlex               win32verstamp\n",
            "_win32sysloader     ipykernel           shutil              win32wnet\n",
            "_win32verstamp_pywin32ctypes ipykernel_launcher  signal              winerror\n",
            "_winapi             isapi               site                winioctlcon\n",
            "_winxptheme         itertools           six                 winnt\n",
            "_xxsubinterpreters  jedi                smtpd               winperf\n",
            "_zoneinfo           json                smtplib             winreg\n",
            "abc                 jsonschema          sndhdr              winsound\n",
            "adodbapi            jsonschema_specifications socket              winxpgui\n",
            "afxres              jupyter             socketserver        winxptheme\n",
            "aifc                jupyter_client      sqlalchemy          wsgiref\n",
            "antigravity         jupyter_core        sqlite3             xdrlib\n",
            "argparse            keyword             sre_compile         xml\n",
            "array               kiwisolver          sre_constants       xmlrpc\n",
            "ast                 lib2to3             sre_parse           xxlimited\n",
            "asttokens           linecache           ssl                 xxlimited_35\n",
            "asynchat            locale              sspi                xxsubtype\n",
            "asyncio             logging             sspicon             zipapp\n",
            "asyncore            lzma                stack_data          zipfile\n",
            "atexit              mailbox             start_pythonwin     zipimport\n",
            "attr                mailcap             stat                zipp\n",
            "attrs               marshal             statistics          zlib\n",
            "audioop             math                string              zmq\n",
            "autocommand         matplotlib          stringprep          zoneinfo\n",
            "backports           matplotlib_inline   struct              \n",
            "base64              mimetypes           subprocess          \n",
            "\n",
            "Enter any module name to get more help.  Or, type \"modules spam\" to search\n",
            "for modules whose name or summary contain the string \"spam\".\n",
            "\n"
          ]
        }
      ],
      "source": [
        "help('modules')"
      ]
    },
    {
      "cell_type": "markdown",
      "metadata": {
        "id": "2Ow6_gWG7ukc"
      },
      "source": [
        "# Loops in Python\n",
        "\n",
        "- Need for loops\n",
        "- While Loop\n",
        "- For Loop"
      ]
    },
    {
      "cell_type": "code",
      "execution_count": 17,
      "metadata": {
        "id": "Ig7NIb7L7txg"
      },
      "outputs": [],
      "source": [
        "# While loop example -> program to print the table\n",
        "# Program -> Sum of all digits of a given number\n",
        "# Program -> keep accepting numbers from users till he/she enters a 0 and then find the avg"
      ]
    },
    {
      "cell_type": "code",
      "execution_count": 18,
      "metadata": {
        "colab": {
          "base_uri": "https://localhost:8080/"
        },
        "id": "brWSxgiu9rrQ",
        "outputId": "eb64e76c-ee60-4584-9d00-9fd6729d39e8"
      },
      "outputs": [
        {
          "name": "stdout",
          "output_type": "stream",
          "text": [
            "10 * 1 = 10\n",
            "10 * 2 = 20\n",
            "10 * 3 = 30\n",
            "10 * 4 = 40\n",
            "10 * 5 = 50\n",
            "10 * 6 = 60\n",
            "10 * 7 = 70\n",
            "10 * 8 = 80\n",
            "10 * 9 = 90\n",
            "10 * 10 = 100\n"
          ]
        }
      ],
      "source": [
        "number = int(input('enter the number'))\n",
        "\n",
        "i = 1\n",
        "\n",
        "while i<11:\n",
        "  print(number,'*',i,'=',number * i)\n",
        "  i += 1"
      ]
    },
    {
      "cell_type": "code",
      "execution_count": 19,
      "metadata": {
        "colab": {
          "base_uri": "https://localhost:8080/"
        },
        "id": "Ltsr9n3H73fp",
        "outputId": "a47f2a11-bf75-4a0a-923c-49f318514900"
      },
      "outputs": [
        {
          "name": "stdout",
          "output_type": "stream",
          "text": [
            "1\n",
            "2\n",
            "limit crossed\n"
          ]
        }
      ],
      "source": [
        "# while loop with else\n",
        "\n",
        "x = 1\n",
        "\n",
        "while x < 3:\n",
        "  print(x)\n",
        "  x += 1\n",
        "\n",
        "else:\n",
        "  print('limit crossed')"
      ]
    },
    {
      "cell_type": "code",
      "execution_count": 20,
      "metadata": {
        "colab": {
          "base_uri": "https://localhost:8080/"
        },
        "id": "29y5r2cr8MRP",
        "outputId": "c4d707ce-6f6c-49cc-8997-a85ecf01e74e"
      },
      "outputs": [
        {
          "name": "stdout",
          "output_type": "stream",
          "text": [
            "wrong!guess higher\n",
            "wrong!guess higher\n",
            "wrong!guess lower\n",
            "correct guess\n",
            "attempts 4\n"
          ]
        }
      ],
      "source": [
        "# Guessing game\n",
        "\n",
        "# generate a random integer between 1 and 100\n",
        "import random\n",
        "jackpot = random.randint(1,100)\n",
        "\n",
        "guess = int(input('guess karo'))\n",
        "counter = 1\n",
        "while guess != jackpot:\n",
        "  if guess < jackpot:\n",
        "    print('wrong!guess higher')\n",
        "  else:\n",
        "    print('wrong!guess lower')\n",
        "\n",
        "  guess = int(input('guess karo'))\n",
        "  counter += 1\n",
        "\n",
        "else:\n",
        "  print('correct guess')\n",
        "  print('attempts',counter)\n",
        "\n",
        "\n"
      ]
    },
    {
      "cell_type": "code",
      "execution_count": 21,
      "metadata": {
        "colab": {
          "base_uri": "https://localhost:8080/"
        },
        "id": "bjjx0fMr8SWh",
        "outputId": "a3bf4676-a68c-499f-fc00-e0fe0f04285b"
      },
      "outputs": [
        {
          "name": "stdout",
          "output_type": "stream",
          "text": [
            "1\n",
            "2\n",
            "3\n",
            "4\n",
            "5\n"
          ]
        }
      ],
      "source": [
        "# For loop demo\n",
        "\n",
        "for i in {1,2,3,4,5}:\n",
        "  print(i)"
      ]
    }
  ],
  "metadata": {
    "colab": {
      "provenance": []
    },
    "kernelspec": {
      "display_name": "myenv",
      "language": "python",
      "name": "python3"
    },
    "language_info": {
      "codemirror_mode": {
        "name": "ipython",
        "version": 3
      },
      "file_extension": ".py",
      "mimetype": "text/x-python",
      "name": "python",
      "nbconvert_exporter": "python",
      "pygments_lexer": "ipython3",
      "version": "3.10.18"
    }
  },
  "nbformat": 4,
  "nbformat_minor": 0
}
